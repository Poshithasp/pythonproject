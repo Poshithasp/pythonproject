{
 "cells": [
  {
   "cell_type": "code",
   "execution_count": 2,
   "id": "5196b877-c004-4fe5-a4c2-c0e819258191",
   "metadata": {},
   "outputs": [],
   "source": [
    "import tkinter as tk\n",
    "window = tk.Tk()\n",
    "window.title(\"Simple Calculator\")\n",
    "def button_click(number):\n",
    "    current = entry_var.get()\n",
    "    entry_var.set(current + number)\n",
    "def button_clear():\n",
    "    entry_var.set(\"\")\n",
    "def button_equal():\n",
    "    expression = entry_var.get()\n",
    "    result = eval(expression)\n",
    "    entry_var.set(result)\n",
    "entry_var = tk.StringVar()\n",
    "entry_var.set(\"\")\n",
    "entry = tk.Entry(window, textvariable=entry_var, width=35, borderwidth=5)\n",
    "entry.grid(row=0, column=0, columnspan=4, padx=10, pady=10)\n",
    "tk.Button(window, text='7', padx=40, pady=20, command=lambda: button_click('7')).grid(row=1, column=0)\n",
    "tk.Button(window, text='8', padx=40, pady=20, command=lambda: button_click('8')).grid(row=1, column=1)\n",
    "tk.Button(window, text='9', padx=40, pady=20, command=lambda: button_click('9')).grid(row=1, column=2)\n",
    "tk.Button(window, text='/', padx=40, pady=20, command=lambda: button_click('/')).grid(row=1, column=3)\n",
    "tk.Button(window, text='4', padx=40, pady=20, command=lambda: button_click('4')).grid(row=2, column=0)\n",
    "tk.Button(window, text='5', padx=40, pady=20, command=lambda: button_click('5')).grid(row=2, column=1)\n",
    "tk.Button(window, text='6', padx=40, pady=20, command=lambda: button_click('6')).grid(row=2, column=2)\n",
    "tk.Button(window, text='*', padx=40, pady=20, command=lambda: button_click('*')).grid(row=2, column=3)\n",
    "tk.Button(window, text='1', padx=40, pady=20, command=lambda: button_click('1')).grid(row=3, column=0)\n",
    "tk.Button(window, text='2', padx=40, pady=20, command=lambda: button_click('2')).grid(row=3, column=1)\n",
    "tk.Button(window, text='3', padx=40, pady=20, command=lambda: button_click('3')).grid(row=3, column=2)\n",
    "tk.Button(window, text='-', padx=40, pady=20, command=lambda: button_click('-')).grid(row=3, column=3)\n",
    "tk.Button(window, text='0', padx=40, pady=20, command=lambda: button_click('0')).grid(row=4, column=0)\n",
    "tk.Button(window, text='C', padx=40, pady=20, command=button_clear).grid(row=4, column=1)\n",
    "tk.Button(window, text='=', padx=40, pady=20, command=button_equal).grid(row=4, column=2)\n",
    "tk.Button(window, text='+', padx=40, pady=20, command=lambda: button_click('+')).grid(row=4, column=3)\n",
    "window.mainloop()"
   ]
  }
 ],
 "metadata": {
  "kernelspec": {
   "display_name": "Python 3 (ipykernel)",
   "language": "python",
   "name": "python3"
  },
  "language_info": {
   "codemirror_mode": {
    "name": "ipython",
    "version": 3
   },
   "file_extension": ".py",
   "mimetype": "text/x-python",
   "name": "python",
   "nbconvert_exporter": "python",
   "pygments_lexer": "ipython3",
   "version": "3.11.7"
  }
 },
 "nbformat": 4,
 "nbformat_minor": 5
}
