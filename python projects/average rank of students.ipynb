{
 "cells": [
  {
   "cell_type": "code",
   "execution_count": 1,
   "id": "badad6e0-18c4-4c0b-a230-9f214f8e5947",
   "metadata": {},
   "outputs": [
    {
     "name": "stdin",
     "output_type": "stream",
     "text": [
      "Enter the number of students:  2\n",
      "Enter the name:  pavi\n",
      "Enter the reg no:  112\n",
      "Enter the marks1:  89\n",
      "Enter the marks2:  99\n",
      "Enter the marks3:  78\n",
      "Enter the name:  nidhi\n",
      "Enter the reg no:  113\n",
      "Enter the marks1:  99\n",
      "Enter the marks2:  98\n",
      "Enter the marks3:  89\n",
      "Enter the reg number of the student whose details are needed:  113\n"
     ]
    },
    {
     "name": "stdout",
     "output_type": "stream",
     "text": [
      "Name: nidhi\n",
      "Reg No: 113\n",
      "Marks 1: 99\n",
      "Marks 2: 98\n",
      "Marks 3: 89\n",
      "Total Marks: 286\n",
      "Average Marks: 95.33333333333333\n",
      "Class Average Marks: 276.00\n",
      "\n",
      "Rank List:\n",
      "Rank 1: nidhi (Reg No: 113) - Total Marks: 286\n",
      "Rank 2: pavi (Reg No: 112) - Total Marks: 266\n"
     ]
    }
   ],
   "source": [
    "class Student:\n",
    "    def __init__(self, name, reg, m1, m2, m3):\n",
    "        self.name = name\n",
    "        self.reg = reg\n",
    "        self.marks1 = m1\n",
    "        self.marks2 = m2\n",
    "        self.marks3 = m3\n",
    "        self.total_marks = m1 + m2 + m3\n",
    "        self.average_marks = self.total_marks / 3\n",
    "def display_student_details(reg):\n",
    "    for st in students:\n",
    "        if st.reg == reg:\n",
    "            print(\"Name:\", st.name)\n",
    "            print(\"Reg No:\", st.reg)\n",
    "            print(\"Marks 1:\", st.marks1)\n",
    "            print(\"Marks 2:\", st.marks2)\n",
    "            print(\"Marks 3:\", st.marks3)\n",
    "            print(\"Total Marks:\", st.total_marks)\n",
    "            print(\"Average Marks:\", st.average_marks)\n",
    "            return\n",
    "def calculate_average_and_rank():\n",
    "    total_students = len(students)\n",
    "    if total_students == 0:\n",
    "        print(\"No students to calculate average and rank.\")\n",
    "        return\n",
    "    total_marks_sum = sum(st.total_marks for st in students)\n",
    "    average_marks = total_marks_sum / total_students\n",
    "    print(f\"Class Average Marks: {average_marks:.2f}\")\n",
    "    sorted_students = sorted(students, key=lambda st: st.total_marks, reverse=True)\n",
    "    print(\"\\nRank List:\")\n",
    "    for rank, st in enumerate(sorted_students, start=1):\n",
    "        print(f\"Rank {rank}: {st.name} (Reg No: {st.reg}) - Total Marks: {st.total_marks}\")\n",
    "students = []\n",
    "n = int(input(\"Enter the number of students: \"))\n",
    "for i in range(n):\n",
    "    name = input(\"Enter the name: \")\n",
    "    reg = int(input(\"Enter the reg no: \"))\n",
    "    marks1 = int(input(\"Enter the marks1: \"))\n",
    "    marks2 = int(input(\"Enter the marks2: \"))\n",
    "    marks3 = int(input(\"Enter the marks3: \"))\n",
    "    st = Student(name, reg, marks1, marks2, marks3)\n",
    "    students.append(st)\n",
    "k = int(input(\"Enter the reg number of the student whose details are needed: \"))\n",
    "display_student_details(k)\n",
    "calculate_average_and_rank()"
   ]
  },
  {
   "cell_type": "code",
   "execution_count": null,
   "id": "2c6c3aa2-cc5f-4597-92ab-612448509fc8",
   "metadata": {},
   "outputs": [],
   "source": []
  }
 ],
 "metadata": {
  "kernelspec": {
   "display_name": "Python 3 (ipykernel)",
   "language": "python",
   "name": "python3"
  },
  "language_info": {
   "codemirror_mode": {
    "name": "ipython",
    "version": 3
   },
   "file_extension": ".py",
   "mimetype": "text/x-python",
   "name": "python",
   "nbconvert_exporter": "python",
   "pygments_lexer": "ipython3",
   "version": "3.11.7"
  }
 },
 "nbformat": 4,
 "nbformat_minor": 5
}
