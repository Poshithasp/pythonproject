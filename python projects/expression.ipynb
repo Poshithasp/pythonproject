{
 "cells": [
  {
   "cell_type": "code",
   "execution_count": 6,
   "id": "cd63a26d-4594-4776-b846-7499f2d12719",
   "metadata": {},
   "outputs": [
    {
     "name": "stdin",
     "output_type": "stream",
     "text": [
      "enter the n1 56\n",
      "enter operator(+,-,/,%,*,): +\n",
      "enter the n2 56\n"
     ]
    },
    {
     "name": "stdout",
     "output_type": "stream",
     "text": [
      "112\n"
     ]
    }
   ],
   "source": [
    "n1=int(input(\"enter the n1\"))\n",
    "operator=input(\"enter operator(+,-,/,%,*,):\")\n",
    "n2=int(input(\"enter the n2\"))\n",
    "\n",
    "\n",
    "if operator == \"+\":\n",
    "    print(n1+n2)\n",
    "elif operator == \"-\":\n",
    "    print(n1-n2)\n",
    "elif operator == \"/\":\n",
    "    print(n1/n2)\n",
    "elif operator == \"%\":\n",
    "    print(n1%n2)\n",
    "elif operator == \"*\":\n",
    "    print(n1*n2)\n",
    "else:\n",
    "    print(\"invalid operator\")\n"
   ]
  },
  {
   "cell_type": "code",
   "execution_count": null,
   "id": "f7e2f9dd-72f3-4ca3-97b8-1e4cbda83932",
   "metadata": {},
   "outputs": [],
   "source": []
  }
 ],
 "metadata": {
  "kernelspec": {
   "display_name": "Python 3 (ipykernel)",
   "language": "python",
   "name": "python3"
  },
  "language_info": {
   "codemirror_mode": {
    "name": "ipython",
    "version": 3
   },
   "file_extension": ".py",
   "mimetype": "text/x-python",
   "name": "python",
   "nbconvert_exporter": "python",
   "pygments_lexer": "ipython3",
   "version": "3.11.7"
  }
 },
 "nbformat": 4,
 "nbformat_minor": 5
}
