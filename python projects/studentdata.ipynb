{
 "cells": [
  {
   "cell_type": "code",
   "execution_count": 7,
   "id": "af6f3c39-7ea7-4a76-83ed-a3cde842f271",
   "metadata": {},
   "outputs": [
    {
     "name": "stdin",
     "output_type": "stream",
     "text": [
      "enter the number of student 2\n",
      "enter the name: poshi\n",
      "enter the reg no: 112\n",
      "enter the marks1: 78\n",
      "enter the marks2: 89\n",
      "enter the marks3: 99\n",
      "enter the name: pavi\n",
      "enter the reg no: 113\n",
      "enter the marks1: 98\n",
      "enter the marks2: 56\n",
      "enter the marks3: 67\n",
      "enter the reg number of student hows detail needed 112\n"
     ]
    },
    {
     "name": "stdout",
     "output_type": "stream",
     "text": [
      "name= poshi\n",
      "reg no= 112\n",
      "marks1= 78\n",
      "marks2= 89\n",
      "marks3= 99\n"
     ]
    }
   ],
   "source": [
    "#display the particular details of the student\n",
    "class student:\n",
    "    def __init__(self,name,reg,m1,m2,m3):\n",
    "        self.name=name\n",
    "        self.reg=reg\n",
    "        self.marks1=m1\n",
    "        self.marks2=m2\n",
    "        self.marks3=m3\n",
    "def display(reg):\n",
    "    for st in s:\n",
    "        if st.reg==reg:\n",
    "            print(\"name=\",st.name)\n",
    "            print(\"reg no=\",st.reg)\n",
    "            print(\"marks1=\",st.marks1)\n",
    "            print(\"marks2=\",st.marks2)\n",
    "            print(\"marks3=\",st.marks3) \n",
    "s=[]\n",
    "n=int(input(\"enter the number of student\"))\n",
    "for i in range(n):\n",
    "    name=input(\"enter the name:\")\n",
    "    reg=int(input(\"enter the reg no:\"))\n",
    "    marks1=int(input(\"enter the marks1:\"))\n",
    "    marks2=int(input(\"enter the marks2:\"))\n",
    "    marks3=int(input(\"enter the marks3:\"))\n",
    "    st=student(name,reg,marks1,marks2,marks3)\n",
    "    s.append(st)\n",
    "k=int(input(\"enter the reg number of student hows detail needed\"))\n",
    "display(k)\n",
    "\n",
    "\n",
    "        "
   ]
  },
  {
   "cell_type": "code",
   "execution_count": null,
   "id": "43982e86-be6a-4be9-91a2-ab4b958b5cda",
   "metadata": {},
   "outputs": [],
   "source": []
  }
 ],
 "metadata": {
  "kernelspec": {
   "display_name": "Python 3 (ipykernel)",
   "language": "python",
   "name": "python3"
  },
  "language_info": {
   "codemirror_mode": {
    "name": "ipython",
    "version": 3
   },
   "file_extension": ".py",
   "mimetype": "text/x-python",
   "name": "python",
   "nbconvert_exporter": "python",
   "pygments_lexer": "ipython3",
   "version": "3.11.7"
  }
 },
 "nbformat": 4,
 "nbformat_minor": 5
}
