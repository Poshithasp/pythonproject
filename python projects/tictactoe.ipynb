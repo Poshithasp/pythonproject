{
 "cells": [
  {
   "cell_type": "code",
   "execution_count": null,
   "id": "236527ee-e628-4a57-9a27-36bcb5abeedd",
   "metadata": {},
   "outputs": [],
   "source": [
    "#tic tac toe game\n",
    "board = {\n",
    "    'top-l': ' ', 'top-m': ' ', 'top-r': ' ',\n",
    "    'mid-l': ' ', 'mid-m': ' ', 'mid-r': ' ',\n",
    "    'low-l': ' ', 'low-m': ' ', 'low-r': ' '\n",
    "}\n",
    "\n",
    "def printboard(board):\n",
    "    print(board['top-l'] + '|' + board['top-m'] + '|' + board['top-r'])\n",
    "    print('-+-+-')\n",
    "    print(board['mid-l'] + '|' + board['mid-m'] + '|' + board['mid-r'])\n",
    "    print('-+-+-')\n",
    "    print(board['low-l'] + '|' + board['low-m'] + '|' + board['low-r'])\n",
    "def check_winner(board):\n",
    "    for row in ['top', 'mid', 'low']:\n",
    "        if board[f'{row}-l'] == board[f'{row}-m'] == board[f'{row}-r'] != ' ':\n",
    "            return board[f'{row}-l']\n",
    "    for col in ['l', 'm', 'r']:\n",
    "        if board[f'top-{col}'] == board[f'mid-{col}'] == board[f'low-{col}'] != ' ':\n",
    "            return board[f'top-{col}']\n",
    "    if board['top-l'] == board['mid-m'] == board['low-r'] != ' ':\n",
    "        return board['top-l']\n",
    "    if board['top-r'] == board['mid-m'] == board['low-l'] != ' ':\n",
    "        return board['top-r']\n",
    "    return None\n",
    "turn = 'X'\n",
    "for i in range(9):\n",
    "    printboard(board)\n",
    "    print('Turn for ' + turn + ' - move on which space?')\n",
    "    move = input().strip()\n",
    "    while board[move] != ' ':\n",
    "        print('Invalid move. Space already taken. Choose again:')\n",
    "        move = input().strip()\n",
    "    board[move] = turn\n",
    "    winner = check_winner(board)\n",
    "    if winner:\n",
    "        printboard(board)\n",
    "        print(f'Player {winner} wins!')\n",
    "        break\n",
    "    if turn == 'X':\n",
    "        turn = 'O'\n",
    "    else:\n",
    "        turn = 'X'\n",
    "if not winner:\n",
    "    printboard(board)\n",
    "    print('It\\'s a tie!')"
   ]
  }
 ],
 "metadata": {
  "kernelspec": {
   "display_name": "Python 3 (ipykernel)",
   "language": "python",
   "name": "python3"
  },
  "language_info": {
   "codemirror_mode": {
    "name": "ipython",
    "version": 3
   },
   "file_extension": ".py",
   "mimetype": "text/x-python",
   "name": "python",
   "nbconvert_exporter": "python",
   "pygments_lexer": "ipython3",
   "version": "3.11.7"
  }
 },
 "nbformat": 4,
 "nbformat_minor": 5
}
